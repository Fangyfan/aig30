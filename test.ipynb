{
 "cells": [
  {
   "cell_type": "code",
   "execution_count": 25,
   "metadata": {},
   "outputs": [],
   "source": [
    "from datetime import datetime\n",
    "import math\n",
    "from utils import AigSet\n",
    "from imap_engine import EngineIMAP\n",
    "from env_v6 import Env\n",
    "import os\n",
    "import numpy as np"
   ]
  },
  {
   "cell_type": "code",
   "execution_count": 26,
   "metadata": {},
   "outputs": [
    {
     "name": "stdout",
     "output_type": "stream",
     "text": [
      "[[-1.  1. -0.]\n",
      " [ 0. -1.  1.]]\n"
     ]
    }
   ],
   "source": [
    "s = math.sqrt\n",
    "U = np.array([\n",
    "    [-1/s(2),-1/s(2)],\n",
    "    [1/s(2),-1/s(2)],\n",
    "])\n",
    "S = np.array([\n",
    "    [s(3),0,0],\n",
    "    [0,1,0]\n",
    "])\n",
    "V = np.array([\n",
    "    [1/s(6),1/s(2),1/s(3)],\n",
    "    [-2/s(6),0,1/s(3)],\n",
    "    [1/s(6),-1/s(2),1/s(3)]\n",
    "])\n",
    "ans = U@S@(V.transpose())\n",
    "ans = ans.astype(np.float16)\n",
    "print(ans)"
   ]
  },
  {
   "cell_type": "code",
   "execution_count": 28,
   "metadata": {},
   "outputs": [
    {
     "data": {
      "text/plain": [
       "array([[ 1. ,  0. ,  0. ,  0. ],\n",
       "       [ 1. ,  2. , -0.5,  0.5],\n",
       "       [ 0. ,  0. ,  2.5, -0.5],\n",
       "       [ 0. ,  0. ,  0.5,  1.5]])"
      ]
     },
     "execution_count": 28,
     "metadata": {},
     "output_type": "execute_result"
    }
   ],
   "source": [
    "p = np.array([\n",
    "    [1,0,0,0],\n",
    "    [1,1,0,1],\n",
    "    [0,0,-1,-1],\n",
    "    [0,0,-1,1]\n",
    "])\n",
    "j = np.array([\n",
    "    [1,0,0,0],\n",
    "    [0,2,0,0],\n",
    "    [0,0,2,1],\n",
    "    [0,0,0,2]\n",
    "])\n",
    "p_ = np.linalg.inv(p)\n",
    "p_@j@p"
   ]
  },
  {
   "cell_type": "code",
   "execution_count": null,
   "metadata": {},
   "outputs": [
    {
     "data": {
      "text/plain": [
       "array([[0, 2, 0],\n",
       "       [1, 0, 2],\n",
       "       [0, 1, 0]])"
      ]
     },
     "execution_count": 4,
     "metadata": {},
     "output_type": "execute_result"
    }
   ],
   "source": [
    "b = np.array([\n",
    "    [0,2],\n",
    "    [1,0],\n",
    "    [0,1],\n",
    "])\n",
    "c = np.array([\n",
    "    [1,0,2],\n",
    "    [0,1,0]\n",
    "])\n",
    "np.matmul(b,c)"
   ]
  },
  {
   "cell_type": "code",
   "execution_count": null,
   "metadata": {},
   "outputs": [
    {
     "data": {
      "text/plain": [
       "array([[1., 0.],\n",
       "       [0., 1.]])"
      ]
     },
     "execution_count": 5,
     "metadata": {},
     "output_type": "execute_result"
    }
   ],
   "source": [
    "bl = np.array([\n",
    "    [0,1,0],\n",
    "    [2/5,0,1/5]\n",
    "])\n",
    "bl@b"
   ]
  },
  {
   "cell_type": "code",
   "execution_count": null,
   "metadata": {},
   "outputs": [
    {
     "data": {
      "text/plain": [
       "array([[1., 0.],\n",
       "       [0., 1.]])"
      ]
     },
     "execution_count": 6,
     "metadata": {},
     "output_type": "execute_result"
    }
   ],
   "source": [
    "cr = np.array([\n",
    "    [1/5,0],\n",
    "    [0,1],\n",
    "    [2/5,0],\n",
    "])\n",
    "c@cr"
   ]
  },
  {
   "cell_type": "code",
   "execution_count": null,
   "metadata": {},
   "outputs": [
    {
     "data": {
      "text/plain": [
       "array([[0. , 0.2, 0. ],\n",
       "       [0.4, 0. , 0.2],\n",
       "       [0. , 0.4, 0. ]])"
      ]
     },
     "execution_count": 7,
     "metadata": {},
     "output_type": "execute_result"
    }
   ],
   "source": [
    "cr@bl"
   ]
  },
  {
   "cell_type": "code",
   "execution_count": null,
   "metadata": {},
   "outputs": [],
   "source": [
    "# aigSet = AigSet('s','m')\n",
    "# for aig in aigSet.aigs:\n",
    "#     env = Env(aig)\n",
    "#     print()\n",
    "#     with open('aiginit.csv','a') as f:\n",
    "#         aig = os.path.basename(aig)\n",
    "#         f.write(f'{aig},{env._initNumAnd},{env._initLev}\\n')\n"
   ]
  }
 ],
 "metadata": {
  "kernelspec": {
   "display_name": "py10",
   "language": "python",
   "name": "python3"
  },
  "language_info": {
   "codemirror_mode": {
    "name": "ipython",
    "version": 3
   },
   "file_extension": ".py",
   "mimetype": "text/x-python",
   "name": "python",
   "nbconvert_exporter": "python",
   "pygments_lexer": "ipython3",
   "version": "3.10.13"
  }
 },
 "nbformat": 4,
 "nbformat_minor": 2
}
